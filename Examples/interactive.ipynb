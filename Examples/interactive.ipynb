{
 "cells": [
  {
   "cell_type": "markdown",
   "metadata": {},
   "source": [
    "# Заголовок\n",
    "Markdown текст: *курсив* **жирний** `програмний код` [Посилання](https://jupyter.org)\n",
    "![рисунок](https://jupyter.org/assets/nav_logo.svg)\n",
    "\n",
    "    >>> a=2 # програмний код\n",
    "    >>> a**2\n",
    "    \n",
    "LaTeX формула: $a^{i\\pi}_{k} + 1 = \\frac{\\sqrt{x+1}}{\\sin x}$\n",
    "\n",
    "|A |B |C |\n",
    "|--|--|--|\n",
    "|1 |2 |3 |\n"
   ]
  },
  {
   "cell_type": "code",
   "execution_count": 1,
   "metadata": {},
   "outputs": [
    {
     "data": {
      "image/png": "[encoded data removed]",
      "text/plain": [
       "<matplotlib.figure.Figure at 0x6032550>"
      ]
     },
     "metadata": {},
     "output_type": "display_data"
    }
   ],
   "source": [
    "# розкоментуйте наступний рядок для інтерактивності\n",
    "#%matplotlib notebook\n",
    "import numpy as np\n",
    "import matplotlib.pyplot as plt\n",
    "from ipywidgets import *\n",
    "x = np.linspace(1, 9); line, = plt.plot(x, np.sin(x)/x)\n",
    "def update(A=(0,2,0.1), B=\"1.0\", C=[0,1,2], D=False):\n",
    "    line.set_ydata((-1 if D else 1)*A*np.sin(float(B)*x+C)/x)\n",
    "    plt.show()\n",
    "interact(update);"
   ]
  },
  {
   "cell_type": "code",
   "execution_count": 2,
   "metadata": {},
   "outputs": [
    {
     "name": "stdout",
     "output_type": "stream",
     "text": [
      "неформатований текст\n"
     ]
    },
    {
     "data": {
      "text/html": [
       "HTML <b>жирний</b> текст"
      ],
      "text/plain": [
       "<IPython.core.display.HTML object>"
      ]
     },
     "metadata": {},
     "output_type": "display_data"
    },
    {
     "data": {
      "text/markdown": [
       "Markdown **жирний** текст"
      ],
      "text/plain": [
       "<IPython.core.display.Markdown object>"
      ]
     },
     "metadata": {},
     "output_type": "display_data"
    },
    {
     "data": {
      "image/svg+xml": [
       "<svg height=\"40\" width=\"40\" xmlns=\"http://www.w3.org/2000/svg\">\n",
       "<circle cx=\"50%\" cy=\"50%\" fill=\"green\" r=\"10\"/></svg>"
      ],
      "text/plain": [
       "<IPython.core.display.SVG object>"
      ]
     },
     "metadata": {},
     "output_type": "display_data"
    }
   ],
   "source": [
    "print \"неформатований текст\"\n",
    "from IPython.display import display, HTML, Markdown, SVG\n",
    "# візуалізація коду мовами HTML, Markdown, SVG\n",
    "display(HTML(u\"HTML <b>жирний</b> текст\"))\n",
    "display(Markdown(u\"Markdown **жирний** текст\"))\n",
    "display(SVG(\"\"\"<svg xmlns=\"http://www.w3.org/2000/svg\" width=\"40\" height=\"40\">\n",
    "<circle r=\"10\" cx=\"50%\" cy=\"50%\" fill=\"green\"/></svg>\"\"\"))\n"
   ]
  }
 ],
 "metadata": {
  "language": "python"
 },
 "nbformat": 4,
 "nbformat_minor": 2
}
